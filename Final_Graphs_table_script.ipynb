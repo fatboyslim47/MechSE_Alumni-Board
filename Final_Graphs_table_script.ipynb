{
 "cells": [
  {
   "cell_type": "markdown",
   "metadata": {},
   "source": [
    "### First - You must install all the required libraries mentioned in \"requirements.txt\" file - One time requirement"
   ]
  },
  {
   "cell_type": "markdown",
   "metadata": {},
   "source": [
    "##### - To install libraries -> Run \"requirements.txt\" file\n",
    "##### - Command to run in Terminal -> pip install -r requirements.txt"
   ]
  },
  {
   "cell_type": "markdown",
   "metadata": {},
   "source": [
    "#### - If not able to run in terminal, go to \"requirements.txt\" file in your directory and copy each library and run individually in terminal and install using command - pip install \"library\"\n",
    "- E.g. pip install selenium=4.15.2\n",
    "##### Or you can do it in this file only with command E.g. !pip install selenium=4.15.2"
   ]
  },
  {
   "cell_type": "markdown",
   "metadata": {},
   "source": [
    "### Libraries to import"
   ]
  },
  {
   "cell_type": "code",
   "execution_count": 16,
   "metadata": {},
   "outputs": [],
   "source": [
    "import numpy as np\n",
    "import pandas as pd\n",
    "import matplotlib\n",
    "import matplotlib.pyplot as plt\n",
    "import os\n",
    "import seaborn as sns\n",
    "import warnings\n",
    "import plotly\n",
    "import plotly.express as px\n",
    "warnings.filterwarnings('ignore')"
   ]
  },
  {
   "cell_type": "markdown",
   "metadata": {},
   "source": [
    "##### To run the cell - select the particular cell and press Ctrl+Enter or you can choose from left arrow button on the cell"
   ]
  },
  {
   "cell_type": "markdown",
   "metadata": {},
   "source": [
    "### Code for creating graphs and Table data"
   ]
  },
  {
   "cell_type": "code",
   "execution_count": 17,
   "metadata": {},
   "outputs": [
    {
     "name": "stdout",
     "output_type": "stream",
     "text": [
      "0 Feb\n",
      "mitprofessors_prof_category.csv\n",
      "michiganprofessors_prof_category.csv\n",
      "stanfordprofessors_prof_category.csv\n",
      "uc_berkeleyprofessors_prof_category.csv\n",
      "UIUCprofessors_prof_category.csv\n",
      "georgiaprofessors_prof_category.csv\n",
      "purdueprofessors_prof_category.csv\n",
      "caltechprofessors_prof_category.csv\n",
      "1 March\n",
      "mitprofessors_prof_category.csv\n",
      "michiganprofessors_prof_category.csv\n",
      "stanfordprofessors_prof_category.csv\n",
      "uc_berkeleyprofessors_prof_category.csv\n",
      "UIUCprofessors_prof_category.csv\n",
      "georgiaprofessors_prof_category.csv\n",
      "purdueprofessors_prof_category.csv\n",
      "caltechprofessors_prof_category.csv\n",
      "2 April\n",
      "mitprofessors_prof_category.csv\n",
      "michiganprofessors_prof_category.csv\n",
      "stanfordprofessors_prof_category.csv\n",
      "uc_berkeleyprofessors_prof_category.csv\n",
      "UIUCprofessors_prof_category.csv\n",
      "georgiaprofessors_prof_category.csv\n",
      "purdueprofessors_prof_category.csv\n",
      "caltechprofessors_prof_category.csv\n",
      "3 May\n",
      "mitprofessors_prof_category.csv\n",
      "michiganprofessors_prof_category.csv\n",
      "stanfordprofessors_prof_category.csv\n",
      "uc_berkeleyprofessors_prof_category.csv\n",
      "UIUCprofessors_prof_category.csv\n",
      "georgiaprofessors_prof_category.csv\n",
      "purdueprofessors_prof_category.csv\n",
      "caltechprofessors_prof_category.csv\n",
      "4 June\n",
      "mitprofessors_prof_category.csv\n",
      "michiganprofessors_prof_category.csv\n",
      "stanfordprofessors_prof_category.csv\n",
      "uc_berkeleyprofessors_prof_category.csv\n",
      "UIUCprofessors_prof_category.csv\n",
      "georgiaprofessors_prof_category.csv\n",
      "purdueprofessors_prof_category.csv\n",
      "caltechprofessors_prof_category.csv\n",
      "5 July\n",
      "mitprofessors_prof_category.csv\n",
      "michiganprofessors_prof_category.csv\n",
      "stanfordprofessors_prof_category.csv\n",
      "uc_berkeleyprofessors_prof_category.csv\n",
      "UIUCprofessors_prof_category.csv\n",
      "georgiaprofessors_prof_category.csv\n",
      "purdueprofessors_prof_category.csv\n",
      "caltechprofessors_prof_category.csv\n",
      "6 August\n"
     ]
    },
    {
     "ename": "FileNotFoundError",
     "evalue": "[Errno 2] No such file or directory: '/Users/markwoodmansee/Library/CloudStorage/Dropbox/MechSE_Alumni-Board/Python-repository/August/files'",
     "output_type": "error",
     "traceback": [
      "\u001b[0;31m---------------------------------------------------------------------------\u001b[0m",
      "\u001b[0;31mFileNotFoundError\u001b[0m                         Traceback (most recent call last)",
      "Cell \u001b[0;32mIn[17], line 38\u001b[0m\n\u001b[1;32m     36\u001b[0m dataframes \u001b[38;5;241m=\u001b[39m []\n\u001b[1;32m     37\u001b[0m files\u001b[38;5;241m=\u001b[39m[]\n\u001b[0;32m---> 38\u001b[0m \u001b[38;5;28;01mfor\u001b[39;00m filename \u001b[38;5;129;01min\u001b[39;00m \u001b[43mos\u001b[49m\u001b[38;5;241;43m.\u001b[39;49m\u001b[43mlistdir\u001b[49m\u001b[43m(\u001b[49m\u001b[43mdirectory\u001b[49m\u001b[38;5;241;43m+\u001b[39;49m\u001b[43mfolder\u001b[49m\u001b[38;5;241;43m+\u001b[39;49m\u001b[38;5;124;43m'\u001b[39;49m\u001b[38;5;124;43m/files\u001b[39;49m\u001b[38;5;124;43m'\u001b[39;49m\u001b[43m)\u001b[49m:\n\u001b[1;32m     39\u001b[0m     \u001b[38;5;28mprint\u001b[39m(filename)\n\u001b[1;32m     40\u001b[0m     \u001b[38;5;28;01mif\u001b[39;00m filename\u001b[38;5;241m.\u001b[39mendswith(\u001b[38;5;124m'\u001b[39m\u001b[38;5;124m.csv\u001b[39m\u001b[38;5;124m'\u001b[39m):\n\u001b[1;32m     41\u001b[0m         \u001b[38;5;66;03m# Read the CSV file into a DataFrame\u001b[39;00m\n",
      "\u001b[0;31mFileNotFoundError\u001b[0m: [Errno 2] No such file or directory: '/Users/markwoodmansee/Library/CloudStorage/Dropbox/MechSE_Alumni-Board/Python-repository/August/files'"
     ]
    }
   ],
   "source": [
    "directory = '/Users/markwoodmansee/Library/CloudStorage/Dropbox/MechSE_Alumni-Board/Python-repository/'\n",
    "all_items = os.listdir(directory)\n",
    "\n",
    "\"\"\"\n",
    "folders = [item for item in all_items if os.path.isdir(os.path.join(directory, item))]\n",
    "if len(folders)==3:\n",
    "    folders = ['Feb', 'March', 'April']\n",
    "elif len(folders)==4:\n",
    "    folders = ['Feb', 'March', 'April', 'May']\n",
    "elif len(folders)==5:\n",
    "    folders = ['Feb', 'March', 'April', 'May', 'June']\n",
    "elif len(folders)==6: //\n",
    "\"\"\"\n",
    "folders = ['Feb', 'March', 'April', 'May', 'June', 'July']\n",
    "\"\"\"\n",
    "elif len(folders)==7:\n",
    "    folders = ['Feb', 'March', 'April', 'May', 'June', 'July','August']\n",
    "elif len(folders)==8:\n",
    "    folders = ['Feb', 'March', 'April', 'May', 'June', 'July','August','September']\n",
    "elif len(folders)==9:\n",
    "    folders = ['Feb', 'March', 'April', 'May', 'June', 'July','August','September','October']\n",
    "elif len(folders)==10:\n",
    "    folders = ['Feb', 'March', 'April', 'May', 'June', 'July','August','September','October','November']\n",
    "elif len(folders)==11:\n",
    "    folders = ['Feb', 'March', 'April', 'May', 'June', 'July','August','September','October','November','December']\n",
    "\"\"\"\n",
    "concatenated_counts1=pd.DataFrame()\n",
    "concatenated_counts3 = pd.DataFrame()\n",
    "monthly_change_df1 = pd.DataFrame()\n",
    "monthly_change_df1['Faculty'] = ['caltechprofessors','georgiaprofessors','michiganprofessors','mitprofessors','purdueprofessors',\n",
    "                                 'stanfordprofessors','uc_berkeleyprofessors','UIUCprofessors']\n",
    "monthly_change_df1['Month'] = 'Feb'\n",
    "monthly_change_df1['Professor'] = 0\n",
    "monthly_change_df1['Associate Professor'] = 0\n",
    "monthly_change_df1['Assistant Professor'] = 0\n",
    "monthly_change_df1['Total Faculty'] = 0\n",
    "# Iterate over each CSV file in the directory\n",
    "for n,folder in enumerate(folders):\n",
    "    print(n,folder)\n",
    "    dataframes = []\n",
    "    files=[]\n",
    "    for filename in os.listdir(directory+folder+'/files'):\n",
    "        print(filename)\n",
    "        if filename.endswith('.csv'):\n",
    "            # Read the CSV file into a DataFrame\n",
    "            filepath = os.path.join(directory+folder+'/files/', filename)\n",
    "            df = pd.read_csv(filepath)\n",
    "            df = df.drop_duplicates(subset=['Professor Name'])\n",
    "            df = df.dropna().reset_index()\n",
    "            df = df[['Professor Name','Professor Profile','Faculty']]\n",
    "            #print(np.sum(df.isna()))\n",
    "            files.append(filename.split('.')[0])\n",
    "            # Append the DataFrame to the list\n",
    "            dataframes.append(df)\n",
    "    \n",
    "    category_counts=[]\n",
    "    concatenated_counts = pd.DataFrame()\n",
    "    for file,data in zip(files,dataframes):\n",
    "        category_counts.append(data['Faculty'].value_counts())\n",
    "\n",
    "    concatenated_counts = pd.concat(category_counts, axis=1, keys=range(1, len(category_counts) + 1))\n",
    "\n",
    "    col_names=[]\n",
    "    for file in files:\n",
    "        name=file.rsplit('_',2)[0]\n",
    "        col_names.append(name)\n",
    "    \n",
    "    concatenated_counts.columns = col_names\n",
    "    concatenated_counts=concatenated_counts.T\n",
    "    concatenated_counts=concatenated_counts.fillna(0)\n",
    "    concatenated_counts['Total Faculty']=concatenated_counts['Professor']+concatenated_counts['Assistant Professor']+concatenated_counts['Associate Professor']\n",
    "    \n",
    "    concatenated_counts.reset_index(inplace=True)\n",
    "    concatenated_counts.columns=['Faculty','Professor', 'Assistant Professor', 'Associate Professor','Total Faculty']\n",
    "    concatenated_counts['Month'] = str(folder)\n",
    "\n",
    "    concatenated_counts1 = pd.concat([concatenated_counts1,concatenated_counts],axis=0)\n",
    "\n",
    "    if n < 1:\n",
    "        concatenated_counts2 = concatenated_counts\n",
    "    else:\n",
    "        monthly_change_df = pd.DataFrame()\n",
    "        monthly_change_df['Faculty'] = concatenated_counts['Faculty']\n",
    "        monthly_change_df['Month'] = concatenated_counts['Month']\n",
    "        monthly_change_df['Professor'] = concatenated_counts['Professor']-concatenated_counts2['Professor']\n",
    "        monthly_change_df['Associate Professor'] = concatenated_counts['Associate Professor']-concatenated_counts2['Associate Professor']\n",
    "        monthly_change_df['Assistant Professor'] = concatenated_counts['Assistant Professor']-concatenated_counts2['Assistant Professor']\n",
    "        monthly_change_df['Total Faculty'] = concatenated_counts['Total Faculty']-concatenated_counts2['Total Faculty']\n",
    "        monthly_change_df1=pd.concat([monthly_change_df1,monthly_change_df],axis=0)\n",
    "        concatenated_counts2=concatenated_counts\n",
    "    "
   ]
  },
  {
   "cell_type": "markdown",
   "metadata": {},
   "source": [
    "#### Faculty Graphs"
   ]
  },
  {
   "cell_type": "code",
   "execution_count": null,
   "metadata": {},
   "outputs": [],
   "source": [
    "concatenated_counts1"
   ]
  },
  {
   "cell_type": "code",
   "execution_count": null,
   "metadata": {},
   "outputs": [],
   "source": [
    "fig = px.line(concatenated_counts1, x=\"Month\", y=\"Professor\", color='Faculty',markers=True,\n",
    "              labels={\"Professor\": \"Population\"})\n",
    "fig.update_layout(title={'text':'Professors','xanchor': 'center','yanchor':'top','y':0.9,'x':0.5,})\n",
    "fig.show()"
   ]
  },
  {
   "cell_type": "code",
   "execution_count": null,
   "metadata": {},
   "outputs": [],
   "source": [
    "fig = px.line(concatenated_counts1, x=\"Month\", y=\"Assistant Professor\", color='Faculty',markers=True,\n",
    "              labels={\"Assistant Professor\": \"Population\"})\n",
    "fig.update_layout(title={'text':'Assistant Professors','xanchor': 'center','yanchor':'top','y':0.9,'x':0.5})\n",
    "fig.show()"
   ]
  },
  {
   "cell_type": "code",
   "execution_count": null,
   "metadata": {},
   "outputs": [],
   "source": [
    "fig = px.line(concatenated_counts1, x=\"Month\", y=\"Associate Professor\", color='Faculty',markers=True,\n",
    "              labels={\"Associate Professor\": \"Population\"})\n",
    "fig.update_layout(title={'text':'Associate Professors','xanchor': 'center','yanchor':'top','y':0.9,'x':0.5})\n",
    "fig.show()"
   ]
  },
  {
   "cell_type": "code",
   "execution_count": null,
   "metadata": {},
   "outputs": [],
   "source": [
    "fig = px.line(concatenated_counts1, x=\"Month\", y=\"Total Faculty\", color='Faculty',markers=True,\n",
    "              labels={\"Total Faculty\": \"Population\"})\n",
    "fig.update_layout(title={'text':'Total Faculties','xanchor': 'center','yanchor':'top','y':0.9,'x':0.5})\n",
    "fig.show()"
   ]
  },
  {
   "cell_type": "markdown",
   "metadata": {},
   "source": [
    "#### Month over Month changes in Faculty Graphs"
   ]
  },
  {
   "cell_type": "code",
   "execution_count": null,
   "metadata": {},
   "outputs": [],
   "source": [
    "monthly_change_df1"
   ]
  },
  {
   "cell_type": "code",
   "execution_count": null,
   "metadata": {},
   "outputs": [],
   "source": [
    "fig = px.line(monthly_change_df1, x=\"Month\", y=\"Total Faculty\", color='Faculty',markers=True,\n",
    "              labels={\"Total Faculty\": \"Personnel Change\"})\n",
    "fig.update_layout(title={'text':'Month over Month Change: Total Faculty','xanchor': 'center','yanchor':'top','y':0.9,'x':0.5})\n",
    "fig.show()"
   ]
  },
  {
   "cell_type": "code",
   "execution_count": null,
   "metadata": {},
   "outputs": [],
   "source": [
    "fig = px.line(monthly_change_df1, x=\"Month\", y=\"Professor\", color='Faculty',markers=True,\n",
    "              labels={\"Professor\": \"Personnel Change\"})\n",
    "fig.update_layout(title={'text':'Month over Month Change: Professor','xanchor': 'center','yanchor':'top','y':0.9,'x':0.5})\n",
    "fig.show()"
   ]
  },
  {
   "cell_type": "code",
   "execution_count": null,
   "metadata": {},
   "outputs": [],
   "source": [
    "fig = px.line(monthly_change_df1, x=\"Month\", y=\"Assistant Professor\", color='Faculty',markers=True,\n",
    "              labels={\"Assistant Professor\": \"Personnel Change\"})\n",
    "fig.update_layout(title={'text':'Month over Month Change: Assistant Professor','xanchor': 'center','yanchor':'top','y':0.9,'x':0.5})\n",
    "fig.show()"
   ]
  },
  {
   "cell_type": "code",
   "execution_count": null,
   "metadata": {},
   "outputs": [],
   "source": [
    "fig = px.line(monthly_change_df1, x=\"Month\", y=\"Associate Professor\", color='Faculty',markers=True,\n",
    "              labels={\"Associate Professor\": \"Personnel Change\"})\n",
    "fig.update_layout(title={'text':'Month over Month Change: Associate Professor','xanchor': 'center','yanchor':'top','y':0.9,'x':0.5})\n",
    "fig.show()"
   ]
  },
  {
   "cell_type": "markdown",
   "metadata": {},
   "source": [
    "### Full Code for creating Table - Month over Month Change Log"
   ]
  },
  {
   "cell_type": "code",
   "execution_count": null,
   "metadata": {},
   "outputs": [],
   "source": [
    "final_table = pd.DataFrame(columns= ['School','Change-Month','Change-Log','Professor Name','Profile'])\n",
    "\n",
    "for n,i in enumerate(folders):\n",
    "    print(n)\n",
    "    if n==(len(folders)-1):\n",
    "        break\n",
    "    else:\n",
    "        prev_month = i\n",
    "        print(prev_month)\n",
    "        current_month = folders[n+1]\n",
    "        print(current_month)\n",
    "\n",
    "        df = monthly_change_df1[monthly_change_df1['Month']==current_month]\n",
    "\n",
    "        change_faculty = df[(df['Professor']!=0) | (df['Associate Professor']!=0) | (df['Assistant Professor']!=0)]['Faculty']\n",
    "\n",
    "        change = pd.DataFrame(columns=['index_x', 'Professor Name', 'Professor Profile_x', 'Faculty_x','index_y',\n",
    "                                       'Professor Profile_y', 'Faculty_y'])\n",
    "        \n",
    "        for cf in change_faculty:\n",
    "            print(cf)\n",
    "            file_path_prev_month = f\"{prev_month}/files/{cf}_prof_category.csv\"\n",
    "            df1 = pd.read_csv(file_path_prev_month)\n",
    "            df11 = df1.drop_duplicates(subset=['Professor Name'])\n",
    "            df1 = df1.dropna().reset_index()\n",
    "            df1 = df1[['Professor Name','Professor Profile','Faculty']]\n",
    "            file_path_curr_month = f\"{current_month}/files/{cf}_prof_category.csv\"\n",
    "            df2 = pd.read_csv(file_path_curr_month)\n",
    "            df2 = df2.drop_duplicates(subset=['Professor Name'])\n",
    "            df2 = df2.dropna().reset_index()\n",
    "            df2 = df2[['Professor Name','Professor Profile','Faculty']]\n",
    "            df1.reset_index(inplace=True)\n",
    "            df2.reset_index(inplace=True)\n",
    "\n",
    "            merged_df = pd.merge(df1,df2,how='outer',on='Professor Name')\n",
    "            #merged_df.to_csv('a/'+current_month+cf+'merged_df.csv')\n",
    "\n",
    "            additions = merged_df[merged_df['index_x'].isna()]\n",
    "            #print(additions.shape)\n",
    "            deletions = merged_df[merged_df['index_y'].isna()]\n",
    "            #print(deletions.shape)\n",
    "\n",
    "        \n",
    "            if additions.shape[0]!=0:\n",
    "                additions['Change-Log'] = 'Addition'\n",
    "                additions['School'] = cf\n",
    "                change = pd.concat([change,additions])\n",
    "\n",
    "            if deletions.shape[0]!=0:\n",
    "                deletions['Change-Log'] = 'Deletion'\n",
    "                deletions['School'] = cf\n",
    "                change = pd.concat([change,deletions])\n",
    "\n",
    "        change['Change-Month'] = current_month\n",
    "\n",
    "        change.reset_index(inplace=True,drop=True)\n",
    "        for idx,row in change.iterrows():\n",
    "            if pd.isna(row['index_x']):\n",
    "                change.at[idx, 'Profile'] =  str(row['Professor Profile_y'])\n",
    "            else:\n",
    "                change.at[idx, 'Profile'] = str(row['Professor Profile_x'])\n",
    "\n",
    "        change = change[['School','Change-Month','Change-Log','Professor Name','Profile']]\n",
    "\n",
    "    final_table = pd.concat([final_table,change],ignore_index=True)\n",
    "\n",
    "final_table.to_excel('Month-over-Month_change_log_Table.xlsx',index=False)\n",
    "\n"
   ]
  },
  {
   "cell_type": "code",
   "execution_count": null,
   "metadata": {},
   "outputs": [],
   "source": [
    "final_table"
   ]
  },
  {
   "cell_type": "markdown",
   "metadata": {},
   "source": [
    "#### ----------------------------------------------------------------------------------------------------------------------"
   ]
  },
  {
   "cell_type": "markdown",
   "metadata": {},
   "source": [
    "#### It's Done!\n",
    "#### You can check the \"Month-over-Month_change_log_Table.xlsx\" saved in your directory"
   ]
  }
 ],
 "metadata": {
  "kernelspec": {
   "display_name": "Python 3",
   "language": "python",
   "name": "python3"
  },
  "language_info": {
   "codemirror_mode": {
    "name": "ipython",
    "version": 3
   },
   "file_extension": ".py",
   "mimetype": "text/x-python",
   "name": "python",
   "nbconvert_exporter": "python",
   "pygments_lexer": "ipython3",
   "version": "3.12.4"
  }
 },
 "nbformat": 4,
 "nbformat_minor": 2
}
